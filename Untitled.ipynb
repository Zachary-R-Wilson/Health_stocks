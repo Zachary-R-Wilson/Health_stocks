{
 "cells": [
  {
   "cell_type": "code",
   "execution_count": 8,
   "metadata": {},
   "outputs": [],
   "source": [
    "import pandas as pd\n",
    "from scrape import get_stock\n",
    "\n",
    "#links to google finance for a given company\n",
    "cvs_link = 'https://www.google.com/search?q=NYSE:CVS&tbm=fin&stick=H4sIAAAAAAAAAONgecRoyi3w8sc9YSmdSWtOXmNU4-IKzsgvd80rySypFJLgYoOy-KR4uLj0c_UNzKtySjLSeBaxcvhFBrtaOYcFAwBcjq1kRQAAAA#scso=__Eo9X6KVKoTWtQbskYu4DA1:0'\n",
    "wba_link = 'https://www.google.com/search?tbm=fin&q=NASDAQ%3A%20WBA#scso=_Pks9X7WRIYSGtQbCpb3QCg1:0'\n",
    "mck_link = 'https://www.google.com/search?tbm=fin&q=NYSE%3A%20MCK#scso=_T0s9X-mPC-qD9PwP2fan0A81:0'\n",
    "\n",
    "link_list = [cvs_link,wba_link,mck_link]\n",
    "\n",
    "stock_df = pd.DataFrame(columns=[\"company\",\"open_price\",\"close_price\",\"high\",\"low\",\"date\"])\n",
    "\n",
    "# for link in link_list:\n",
    "#     stock_list.append(get_stock(link))\n",
    "data = {'company':'CVS Health Corp', 'open_price':'65.39', 'close_price':'65.20', 'high':'65.71', 'low':'64.99', 'date':'2020-8-19'}"
   ]
  },
  {
   "cell_type": "code",
   "execution_count": 17,
   "metadata": {},
   "outputs": [],
   "source": [
    "stock_df = stock_df.append(data,ignore_index=True)"
   ]
  },
  {
   "cell_type": "code",
   "execution_count": 18,
   "metadata": {},
   "outputs": [
    {
     "data": {
      "text/html": [
       "<div>\n",
       "<style scoped>\n",
       "    .dataframe tbody tr th:only-of-type {\n",
       "        vertical-align: middle;\n",
       "    }\n",
       "\n",
       "    .dataframe tbody tr th {\n",
       "        vertical-align: top;\n",
       "    }\n",
       "\n",
       "    .dataframe thead th {\n",
       "        text-align: right;\n",
       "    }\n",
       "</style>\n",
       "<table border=\"1\" class=\"dataframe\">\n",
       "  <thead>\n",
       "    <tr style=\"text-align: right;\">\n",
       "      <th></th>\n",
       "      <th>company</th>\n",
       "      <th>open_price</th>\n",
       "      <th>close_price</th>\n",
       "      <th>high</th>\n",
       "      <th>low</th>\n",
       "      <th>date</th>\n",
       "    </tr>\n",
       "  </thead>\n",
       "  <tbody>\n",
       "    <tr>\n",
       "      <th>0</th>\n",
       "      <td>CVS Health Corp</td>\n",
       "      <td>65.39</td>\n",
       "      <td>65.20</td>\n",
       "      <td>65.71</td>\n",
       "      <td>64.99</td>\n",
       "      <td>2020-8-19</td>\n",
       "    </tr>\n",
       "  </tbody>\n",
       "</table>\n",
       "</div>"
      ],
      "text/plain": [
       "           company open_price close_price   high    low       date\n",
       "0  CVS Health Corp      65.39       65.20  65.71  64.99  2020-8-19"
      ]
     },
     "execution_count": 18,
     "metadata": {},
     "output_type": "execute_result"
    }
   ],
   "source": [
    "stock_df"
   ]
  }
 ],
 "metadata": {
  "kernelspec": {
   "display_name": "Python 3",
   "language": "python",
   "name": "python3"
  },
  "language_info": {
   "codemirror_mode": {
    "name": "ipython",
    "version": 3
   },
   "file_extension": ".py",
   "mimetype": "text/x-python",
   "name": "python",
   "nbconvert_exporter": "python",
   "pygments_lexer": "ipython3",
   "version": "3.8.2"
  }
 },
 "nbformat": 4,
 "nbformat_minor": 4
}
