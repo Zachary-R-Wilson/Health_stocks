{
 "cells": [
  {
   "cell_type": "code",
   "execution_count": 1,
   "metadata": {},
   "outputs": [],
   "source": [
    "import pandas as pd\n",
    "from scrape import get_stock\n",
    "\n",
    "#links to google finance for a given company\n",
    "cvs_link = 'https://www.google.com/search?q=NYSE:CVS&tbm=fin&stick=H4sIAAAAAAAAAONgecRoyi3w8sc9YSmdSWtOXmNU4-IKzsgvd80rySypFJLgYoOy-KR4uLj0c_UNzKtySjLSeBaxcvhFBrtaOYcFAwBcjq1kRQAAAA#scso=__Eo9X6KVKoTWtQbskYu4DA1:0'\n",
    "wba_link = 'https://www.google.com/search?tbm=fin&q=NASDAQ%3A%20WBA#scso=_Pks9X7WRIYSGtQbCpb3QCg1:0'\n",
    "mck_link = 'https://www.google.com/search?tbm=fin&q=NYSE%3A%20MCK#scso=_T0s9X-mPC-qD9PwP2fan0A81:0'\n",
    "\n",
    "link_list = [cvs_link,wba_link,mck_link]\n",
    "\n",
    "stock_df = pd.DataFrame(columns=[\"company\",\"open_price\",\"close_price\",\"high\",\"low\",\"date\"])\n",
    "\n",
    "# for link in link_list:\n",
    "#     stock_list.append(get_stock(link))\n",
    "data = ['CVS Health Corp', '65.39', '65.20', '65.71', '64.99', '2020-8-19']"
   ]
  },
  {
   "cell_type": "code",
   "execution_count": 2,
   "metadata": {},
   "outputs": [
    {
     "data": {
      "text/html": [
       "<div>\n",
       "<style scoped>\n",
       "    .dataframe tbody tr th:only-of-type {\n",
       "        vertical-align: middle;\n",
       "    }\n",
       "\n",
       "    .dataframe tbody tr th {\n",
       "        vertical-align: top;\n",
       "    }\n",
       "\n",
       "    .dataframe thead th {\n",
       "        text-align: right;\n",
       "    }\n",
       "</style>\n",
       "<table border=\"1\" class=\"dataframe\">\n",
       "  <thead>\n",
       "    <tr style=\"text-align: right;\">\n",
       "      <th></th>\n",
       "      <th>company</th>\n",
       "      <th>open_price</th>\n",
       "      <th>close_price</th>\n",
       "      <th>high</th>\n",
       "      <th>low</th>\n",
       "      <th>date</th>\n",
       "    </tr>\n",
       "  </thead>\n",
       "  <tbody>\n",
       "  </tbody>\n",
       "</table>\n",
       "</div>"
      ],
      "text/plain": [
       "Empty DataFrame\n",
       "Columns: [company, open_price, close_price, high, low, date]\n",
       "Index: []"
      ]
     },
     "execution_count": 2,
     "metadata": {},
     "output_type": "execute_result"
    }
   ],
   "source": [
    "stock_df.append(pd.Series(data))\n",
    "stock_df"
   ]
  }
 ],
 "metadata": {
  "kernelspec": {
   "display_name": "Python 3",
   "language": "python",
   "name": "python3"
  },
  "language_info": {
   "codemirror_mode": {
    "name": "ipython",
    "version": 3
   },
   "file_extension": ".py",
   "mimetype": "text/x-python",
   "name": "python",
   "nbconvert_exporter": "python",
   "pygments_lexer": "ipython3",
   "version": "3.8.2"
  }
 },
 "nbformat": 4,
 "nbformat_minor": 4
}
